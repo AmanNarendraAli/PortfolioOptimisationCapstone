{
 "cells": [
  {
   "cell_type": "code",
   "execution_count": 1,
   "metadata": {},
   "outputs": [],
   "source": [
    "from Model import Model\n",
    "import numpy as np\n",
    "import pandas as pd\n",
    "import matplotlib.pyplot as plt\n",
    "import seaborn as sns\n",
    "from datetime import datetime, timedelta\n",
    "import yfinance as yf"
   ]
  },
  {
   "cell_type": "code",
   "execution_count": 2,
   "metadata": {},
   "outputs": [],
   "source": [
    "tickers = ['AGG', 'DBC', 'VIXY', 'VTI']\n",
    "start_date = '2006-02-06'\n",
    "end_date = '2020-04-06'\n",
    "trading_days = 252\n",
    "np.random.seed(123)"
   ]
  },
  {
   "cell_type": "code",
   "execution_count": null,
   "metadata": {},
   "outputs": [],
   "source": [
    "class Portfolio:\n",
    "    def __init__(self, initial_cash: float, assets: pd.DataFrame):\n",
    "        \"\"\"\n",
    "        Initializes the Portfolio object.\n",
    "\n",
    "        Parameters:\n",
    "        - initial_cash: The starting value of the portfolio in cash.\n",
    "        - assets: DataFrame of asset prices (historical data).\n",
    "        \"\"\"\n",
    "        self.initial_cash = initial_cash\n",
    "        self.current_value = initial_cash\n",
    "        self.assets = assets  # Historical price data for the assets\n",
    "        self.weights = np.zeros(len(assets.columns))  # Initialize weights as zero\n",
    "        self.portfolio_history = []  # To track portfolio value over time\n",
    "    \n",
    "    def set_weights(self, weights: np.array):\n",
    "        \"\"\"\n",
    "        Set the weights of the assets in the portfolio.\n",
    "\n",
    "        Parameters:\n",
    "        - weights: Array of weights corresponding to the assets.\n",
    "        \"\"\"\n",
    "        self.weights = weights\n",
    "\n",
    "    def num_shares(self, prices: np.array):\n",
    "        \"\"\"\n",
    "        Calculate the number of shares of each asset in the portfolio.\n",
    "\n",
    "        Parameters:\n",
    "        - prices: Array of current prices of the assets.\n",
    "\n",
    "        Returns:\n",
    "        - Array of number of shares of each asset.\n",
    "        \"\"\"\n",
    "        return self.current_value * self.weights / prices\n",
    "    \n",
    "    \n"
   ]
  }
 ],
 "metadata": {
  "kernelspec": {
   "display_name": "Python 3",
   "language": "python",
   "name": "python3"
  },
  "language_info": {
   "codemirror_mode": {
    "name": "ipython",
    "version": 3
   },
   "file_extension": ".py",
   "mimetype": "text/x-python",
   "name": "python",
   "nbconvert_exporter": "python",
   "pygments_lexer": "ipython3",
   "version": "3.9.7"
  }
 },
 "nbformat": 4,
 "nbformat_minor": 2
}
