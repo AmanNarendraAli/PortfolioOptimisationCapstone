{
 "cells": [
  {
   "cell_type": "code",
   "execution_count": 7,
   "metadata": {},
   "outputs": [
    {
     "name": "stdout",
     "output_type": "stream",
     "text": [
      "Setup complete: libraries imported, random seed set, and tickers defined.\n"
     ]
    },
    {
     "name": "stderr",
     "output_type": "stream",
     "text": [
      "C:\\Users\\wiztu\\AppData\\Local\\Temp\\ipykernel_13960\\2486330105.py:17: MatplotlibDeprecationWarning: The seaborn styles shipped by Matplotlib are deprecated since 3.6, as they no longer correspond to the styles shipped by seaborn. However, they will remain available as 'seaborn-v0_8-<style>'. Alternatively, directly use the seaborn API instead.\n",
      "  plt.style.use('seaborn-darkgrid')\n"
     ]
    }
   ],
   "source": [
    "# Import necessary libraries for data handling, model utilization, and visualization\n",
    "import numpy as np\n",
    "import pandas as pd\n",
    "import yfinance as yf  # For collecting financial data\n",
    "from typing import List, Dict, Optional, Tuple\n",
    "\n",
    "# Import the custom Model class\n",
    "from Model import Model\n",
    "\n",
    "# Set the random seed for reproducibility across numpy and tensorflow\n",
    "np.random.seed(123)\n",
    "\n",
    "# Import matplotlib for plotting portfolio performance\n",
    "import matplotlib.pyplot as plt\n",
    "\n",
    "# Optional: Configure plotting style for a consistent look\n",
    "plt.style.use('seaborn-darkgrid')\n",
    "\n",
    "# Define the tickers and date range with consideration of trading days\n",
    "TICKERS = ['VTI','AGG','DBC','VIXY']  # Example tickers for the portfolio\n",
    "START_DATE = '2010-01-01'\n",
    "END_DATE = '2020-12-31'\n",
    "\n",
    "# Approximate number of trading days per year (useful for annualizing returns)\n",
    "TRADING_DAYS_PER_YEAR = 252\n",
    "\n",
    "# Confirm setup\n",
    "print(\"Setup complete: libraries imported, random seed set, and tickers defined.\")\n"
   ]
  },
  {
   "cell_type": "code",
   "execution_count": 8,
   "metadata": {},
   "outputs": [
    {
     "name": "stderr",
     "output_type": "stream",
     "text": [
      "[*********************100%%**********************]  4 of 4 completed"
     ]
    },
    {
     "name": "stdout",
     "output_type": "stream",
     "text": [
      "Data fetched successfully. Sample data:\n",
      "Ticker            AGG        DBC      VIXY        VTI\n",
      "Date                                                 \n",
      "2011-01-04  73.858643  25.130907  158460.0  51.113724\n",
      "2011-01-05  73.502090  25.397863  155100.0  51.394760\n",
      "2011-01-06  73.516144  25.057262  155760.0  51.277676\n",
      "2011-01-07  73.753784  24.965210  156080.0  51.160557\n",
      "2011-01-10  73.949478  25.259781  155760.0  51.199577\n",
      "Data covers 2515 trading days with 4 assets.\n"
     ]
    },
    {
     "name": "stderr",
     "output_type": "stream",
     "text": [
      "\n"
     ]
    }
   ],
   "source": [
    "# Data Collection Step\n",
    "# Objective: Fetch historical adjusted close prices for defined tickers and date range\n",
    "\n",
    "# Download data using yfinance for the specified tickers and date range\n",
    "def get_data(tickers, start_date, end_date):\n",
    "    \"\"\"\n",
    "    Retrieves historical adjusted close prices for the given tickers and date range.\n",
    "    \n",
    "    Parameters:\n",
    "    - tickers: List of stock ticker symbols\n",
    "    - start_date: Start date for historical data\n",
    "    - end_date: End date for historical data\n",
    "    \n",
    "    Returns:\n",
    "    - DataFrame of adjusted close prices, with each column representing a ticker\n",
    "    \"\"\"\n",
    "    # Fetch data from yfinance\n",
    "    data = yf.download(tickers, start=start_date, end=end_date)['Adj Close']\n",
    "    \n",
    "    # Drop rows with missing values, if any, to ensure data continuity\n",
    "    data.dropna(inplace=True)\n",
    "    \n",
    "    return data\n",
    "\n",
    "# Fetch the data and display a quick preview\n",
    "data = get_data(TICKERS, START_DATE, END_DATE)\n",
    "print(\"Data fetched successfully. Sample data:\")\n",
    "print(data.head())\n",
    "\n",
    "# Confirm data spans the expected range and has the expected number of columns\n",
    "print(f\"Data covers {len(data)} trading days with {len(data.columns)} assets.\")\n"
   ]
  },
  {
   "cell_type": "code",
   "execution_count": 9,
   "metadata": {},
   "outputs": [
    {
     "name": "stdout",
     "output_type": "stream",
     "text": [
      "Data preprocessing complete. Sample normalized data:\n",
      "Ticker           AGG       DBC      VIXY       VTI\n",
      "Date                                              \n",
      "2011-01-04  1.000000  1.000000  1.000000  1.000000\n",
      "2011-01-05  0.995173  1.010623  0.978796  1.005498\n",
      "2011-01-06  0.995363  0.997070  0.982961  1.003208\n",
      "2011-01-07  0.998580  0.993407  0.984980  1.000916\n",
      "2011-01-10  1.001230  1.005128  0.982961  1.001680\n",
      "\n",
      "Sample daily returns:\n",
      "Ticker           AGG       DBC      VIXY       VTI\n",
      "Date                                              \n",
      "2011-01-05 -0.004827  0.010623 -0.021204  0.005498\n",
      "2011-01-06  0.000191 -0.013411  0.004255 -0.002278\n",
      "2011-01-07  0.003232 -0.003674  0.002054 -0.002284\n",
      "2011-01-10  0.002653  0.011799 -0.002050  0.000763\n",
      "2011-01-11 -0.001985  0.011297 -0.027607  0.003965\n"
     ]
    }
   ],
   "source": [
    "# Data Preprocessing Step\n",
    "# Objective: Prepare data by calculating daily returns and normalizing for model input\n",
    "\n",
    "def preprocess_data(data):\n",
    "    \"\"\"\n",
    "    Prepares data for the LSTM model by calculating returns and normalizing prices.\n",
    "\n",
    "    Parameters:\n",
    "    - data: DataFrame of historical adjusted close prices for assets\n",
    "\n",
    "    Returns:\n",
    "    - normalized_data: DataFrame with prices normalized to start at 1 for each asset\n",
    "    - returns: DataFrame with daily returns for each asset\n",
    "    \"\"\"\n",
    "    # Calculate daily returns as percentage changes\n",
    "    returns = data.pct_change().dropna()\n",
    "    \n",
    "    # Normalize prices so each series starts at 1\n",
    "    normalized_data = data / data.iloc[0]\n",
    "    \n",
    "    return normalized_data, returns\n",
    "\n",
    "# Run preprocessing and display sample data\n",
    "normalized_data, returns = preprocess_data(data)\n",
    "print(\"Data preprocessing complete. Sample normalized data:\")\n",
    "print(normalized_data.head())\n",
    "print(\"\\nSample daily returns:\")\n",
    "print(returns.head())\n"
   ]
  },
  {
   "cell_type": "code",
   "execution_count": 10,
   "metadata": {},
   "outputs": [],
   "source": [
    "class Portfolio:\n",
    "    def __init__(self, initial_cash: float, assets: pd.DataFrame):\n",
    "        \"\"\"\n",
    "        Initializes the Portfolio object.\n",
    "\n",
    "        Parameters:\n",
    "        - initial_cash: The starting value of the portfolio in cash.\n",
    "        - assets: DataFrame of asset prices (historical data).\n",
    "        \"\"\"\n",
    "        self.initial_cash = initial_cash\n",
    "        self.current_value = initial_cash\n",
    "        self.assets = assets  # Historical price data for the assets\n",
    "        self.weights = np.zeros(len(assets.columns))  # Initialize weights as zero\n",
    "        self.portfolio_history = []  # To track portfolio value over time\n",
    "        self.rebalancing_dates = []  # To store rebalancing dates\n",
    "\n",
    "    def rebalance(self, new_weights: np.array):\n",
    "        \"\"\"\n",
    "        Rebalances the portfolio according to new weights.\n",
    "\n",
    "        Parameters:\n",
    "        - new_weights: Numpy array of asset allocations.\n",
    "        \"\"\"\n",
    "        if len(new_weights) != len(self.assets.columns):\n",
    "            raise ValueError(\"Number of weights must match the number of assets.\")\n",
    "        self.weights = new_weights\n",
    "        print(f\"Portfolio rebalanced with weights: {new_weights}\")\n",
    "\n",
    "    def calculate_daily_returns(self):\n",
    "        \"\"\"\n",
    "        Applies the current weights to asset returns and updates portfolio value over time.\n",
    "        \"\"\"\n",
    "        # Calculate daily returns for each asset\n",
    "        daily_returns = self.assets.pct_change().dropna()\n",
    "        \n",
    "        # Calculate portfolio returns by applying weights\n",
    "        portfolio_returns = np.dot(daily_returns, self.weights)\n",
    "\n",
    "        # Track the portfolio's value over time by compounding the returns\n",
    "        for daily_ret in portfolio_returns:\n",
    "            self.current_value *= (1 + daily_ret)\n",
    "            self.portfolio_history.append(self.current_value)\n",
    "\n",
    "    def track_portfolio_performance(self):\n",
    "        \"\"\"\n",
    "        Tracks and prints the portfolio performance over time.\n",
    "        \"\"\"\n",
    "        for date, value in zip(self.assets.index[1:], self.portfolio_history):\n",
    "            print(f\"Date: {date}, Portfolio Value: {value}\")\n",
    "\n",
    "    def get_portfolio_value(self):\n",
    "        \"\"\"\n",
    "        Returns the current value of the portfolio.\n",
    "        \"\"\"\n",
    "        return self.current_value"
   ]
  },
  {
   "cell_type": "code",
   "execution_count": 11,
   "metadata": {},
   "outputs": [],
   "source": [
    "def train_and_rebalance_portfolio(portfolio: Portfolio, frequency: int, model: Model):\n",
    "    \"\"\"\n",
    "    Trains the LSTM model and rebalances the portfolio at the end of each specified interval.\n",
    "\n",
    "    Parameters:\n",
    "    - portfolio: An instance of the Portfolio class.\n",
    "    - frequency: The frequency of rebalancing in days.\n",
    "    - model: An instance of the Model class for training.\n",
    "    \"\"\"\n",
    "    num_days = len(portfolio.assets)\n",
    "    start_index = 0\n",
    "\n",
    "    while start_index < num_days:\n",
    "        # Determine the end index for the current training period\n",
    "        end_index = min(start_index + frequency, num_days)\n",
    "\n",
    "        # Slice the data for the training period\n",
    "        train_data = portfolio.assets.iloc[start_index:end_index]\n",
    "\n",
    "        # Preprocess the training data\n",
    "        normalized_data, _ = preprocess_data(train_data)\n",
    "\n",
    "        # Get allocations from the model\n",
    "        allocations = model.get_allocations(normalized_data)\n",
    "\n",
    "        # Rebalance the portfolio with the optimized weights\n",
    "        portfolio.rebalance(allocations)\n",
    "\n",
    "        # Store the rebalancing date\n",
    "        portfolio.rebalancing_dates.append(train_data.index[-1])\n",
    "\n",
    "        # Move to the next period\n",
    "        start_index += frequency\n"
   ]
  }
 ],
 "metadata": {
  "kernelspec": {
   "display_name": "Python 3",
   "language": "python",
   "name": "python3"
  },
  "language_info": {
   "codemirror_mode": {
    "name": "ipython",
    "version": 3
   },
   "file_extension": ".py",
   "mimetype": "text/x-python",
   "name": "python",
   "nbconvert_exporter": "python",
   "pygments_lexer": "ipython3",
   "version": "3.9.7"
  }
 },
 "nbformat": 4,
 "nbformat_minor": 2
}
