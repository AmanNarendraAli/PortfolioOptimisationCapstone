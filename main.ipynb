{
 "cells": [
  {
   "cell_type": "code",
   "execution_count": 6,
   "metadata": {},
   "outputs": [
    {
     "name": "stdout",
     "output_type": "stream",
     "text": [
      "Setup complete: libraries imported, random seed set, and tickers defined.\n"
     ]
    },
    {
     "name": "stderr",
     "output_type": "stream",
     "text": [
      "C:\\Users\\wiztu\\AppData\\Local\\Temp\\ipykernel_13644\\1767978477.py:16: MatplotlibDeprecationWarning: The seaborn styles shipped by Matplotlib are deprecated since 3.6, as they no longer correspond to the styles shipped by seaborn. However, they will remain available as 'seaborn-v0_8-<style>'. Alternatively, directly use the seaborn API instead.\n",
      "  plt.style.use('seaborn-darkgrid')\n"
     ]
    }
   ],
   "source": [
    "# Import necessary libraries for data handling, model utilization, and visualization\n",
    "import numpy as np\n",
    "import pandas as pd\n",
    "import yfinance as yf  # For collecting financial data\n",
    "\n",
    "# Import the custom Model class\n",
    "from Model import Model\n",
    "\n",
    "# Set the random seed for reproducibility across numpy and tensorflow\n",
    "np.random.seed(123)\n",
    "\n",
    "# Import matplotlib for plotting portfolio performance\n",
    "import matplotlib.pyplot as plt\n",
    "\n",
    "# Optional: Configure plotting style for a consistent look\n",
    "plt.style.use('seaborn-darkgrid')\n",
    "\n",
    "# Define the tickers and date range with consideration of trading days\n",
    "TICKERS = ['VTI','AGG','DBC','VIXY']  # Example tickers for the portfolio\n",
    "START_DATE = '2010-01-01'\n",
    "END_DATE = '2020-12-31'\n",
    "\n",
    "# Approximate number of trading days per year (useful for annualizing returns)\n",
    "TRADING_DAYS_PER_YEAR = 252\n",
    "\n",
    "# Confirm setup\n",
    "print(\"Setup complete: libraries imported, random seed set, and tickers defined.\")\n"
   ]
  },
  {
   "cell_type": "code",
   "execution_count": 7,
   "metadata": {},
   "outputs": [
    {
     "name": "stderr",
     "output_type": "stream",
     "text": [
      "[*********************100%%**********************]  4 of 4 completed"
     ]
    },
    {
     "name": "stdout",
     "output_type": "stream",
     "text": [
      "Data fetched successfully. Sample data:\n",
      "Ticker            AGG        DBC      VIXY        VTI\n",
      "Date                                                 \n",
      "2011-01-04  73.858650  25.130907  158460.0  51.113712\n",
      "2011-01-05  73.502106  25.397865  155100.0  51.394772\n",
      "2011-01-06  73.516090  25.057261  155760.0  51.277676\n",
      "2011-01-07  73.753754  24.965208  156080.0  51.160545\n",
      "2011-01-10  73.949493  25.259785  155760.0  51.199593\n",
      "Data covers 2515 trading days with 4 assets.\n"
     ]
    },
    {
     "name": "stderr",
     "output_type": "stream",
     "text": [
      "\n"
     ]
    }
   ],
   "source": [
    "# Data Collection Step\n",
    "# Objective: Fetch historical adjusted close prices for defined tickers and date range\n",
    "\n",
    "# Download data using yfinance for the specified tickers and date range\n",
    "def get_data(tickers, start_date, end_date):\n",
    "    \"\"\"\n",
    "    Retrieves historical adjusted close prices for the given tickers and date range.\n",
    "    \n",
    "    Parameters:\n",
    "    - tickers: List of stock ticker symbols\n",
    "    - start_date: Start date for historical data\n",
    "    - end_date: End date for historical data\n",
    "    \n",
    "    Returns:\n",
    "    - DataFrame of adjusted close prices, with each column representing a ticker\n",
    "    \"\"\"\n",
    "    # Fetch data from yfinance\n",
    "    data = yf.download(tickers, start=start_date, end=end_date)['Adj Close']\n",
    "    \n",
    "    # Drop rows with missing values, if any, to ensure data continuity\n",
    "    data.dropna(inplace=True)\n",
    "    \n",
    "    return data\n",
    "\n",
    "# Fetch the data and display a quick preview\n",
    "data = get_data(TICKERS, START_DATE, END_DATE)\n",
    "print(\"Data fetched successfully. Sample data:\")\n",
    "print(data.head())\n",
    "\n",
    "# Confirm data spans the expected range and has the expected number of columns\n",
    "print(f\"Data covers {len(data)} trading days with {len(data.columns)} assets.\")\n"
   ]
  },
  {
   "cell_type": "code",
   "execution_count": 8,
   "metadata": {},
   "outputs": [
    {
     "name": "stdout",
     "output_type": "stream",
     "text": [
      "Data preprocessing complete. Sample normalized data:\n",
      "Ticker           AGG       DBC      VIXY       VTI\n",
      "Date                                              \n",
      "2011-01-04  1.000000  1.000000  1.000000  1.000000\n",
      "2011-01-05  0.995173  1.010623  0.978796  1.005499\n",
      "2011-01-06  0.995362  0.997069  0.982961  1.003208\n",
      "2011-01-07  0.998580  0.993407  0.984980  1.000916\n",
      "2011-01-10  1.001230  1.005128  0.982961  1.001680\n",
      "\n",
      "Sample daily returns:\n",
      "Ticker           AGG       DBC      VIXY       VTI\n",
      "Date                                              \n",
      "2011-01-05 -0.004827  0.010623 -0.021204  0.005499\n",
      "2011-01-06  0.000190 -0.013411  0.004255 -0.002278\n",
      "2011-01-07  0.003233 -0.003674  0.002054 -0.002284\n",
      "2011-01-10  0.002654  0.011799 -0.002050  0.000763\n",
      "2011-01-11 -0.001984  0.011297 -0.027607  0.003964\n"
     ]
    }
   ],
   "source": [
    "# Data Preprocessing Step\n",
    "# Objective: Prepare data by calculating daily returns and normalizing for model input\n",
    "\n",
    "def preprocess_data(data):\n",
    "    \"\"\"\n",
    "    Prepares data for the LSTM model by calculating returns and normalizing prices.\n",
    "\n",
    "    Parameters:\n",
    "    - data: DataFrame of historical adjusted close prices for assets\n",
    "\n",
    "    Returns:\n",
    "    - normalized_data: DataFrame with prices normalized to start at 1 for each asset\n",
    "    - returns: DataFrame with daily returns for each asset\n",
    "    \"\"\"\n",
    "    # Calculate daily returns as percentage changes\n",
    "    returns = data.pct_change().dropna()\n",
    "    \n",
    "    # Normalize prices so each series starts at 1\n",
    "    normalized_data = data / data.iloc[0]\n",
    "    \n",
    "    return normalized_data, returns\n",
    "\n",
    "# Run preprocessing and display sample data\n",
    "normalized_data, returns = preprocess_data(data)\n",
    "print(\"Data preprocessing complete. Sample normalized data:\")\n",
    "print(normalized_data.head())\n",
    "print(\"\\nSample daily returns:\")\n",
    "print(returns.head())\n"
   ]
  }
 ],
 "metadata": {
  "kernelspec": {
   "display_name": "Python 3",
   "language": "python",
   "name": "python3"
  },
  "language_info": {
   "codemirror_mode": {
    "name": "ipython",
    "version": 3
   },
   "file_extension": ".py",
   "mimetype": "text/x-python",
   "name": "python",
   "nbconvert_exporter": "python",
   "pygments_lexer": "ipython3",
   "version": "3.9.7"
  }
 },
 "nbformat": 4,
 "nbformat_minor": 2
}
